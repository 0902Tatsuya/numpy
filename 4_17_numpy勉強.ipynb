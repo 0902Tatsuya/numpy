{
 "cells": [
  {
   "cell_type": "code",
   "execution_count": 1,
   "metadata": {},
   "outputs": [
    {
     "data": {
      "text/plain": [
       "array([1, 2, 3])"
      ]
     },
     "execution_count": 1,
     "metadata": {},
     "output_type": "execute_result"
    }
   ],
   "source": [
    "#numpyをダウンロード　& 基本的な配列作り　\n",
    "# np.asarray()\n",
    "import numpy as np\n",
    "arr = np.asarray([1,2,3])\n",
    "arr\n"
   ]
  },
  {
   "cell_type": "code",
   "execution_count": 8,
   "metadata": {},
   "outputs": [
    {
     "data": {
      "text/plain": [
       "array([1, 2, 3], dtype=int32)"
      ]
     },
     "execution_count": 8,
     "metadata": {},
     "output_type": "execute_result"
    }
   ],
   "source": [
    "#配列の種類の変え方\n",
    "#〇〇.astype(np.〇〇)\n",
    "import numpy as np\n",
    "arr = np.asarray([1,2,3], dtype=np.int32)\n",
    "aarr = arr.astype(np.float32)\n",
    "arr\n"
   ]
  },
  {
   "cell_type": "code",
   "execution_count": 13,
   "metadata": {},
   "outputs": [
    {
     "data": {
      "text/plain": [
       "array([[1, 2, 3],\n",
       "       [4, 5, 6],\n",
       "       [7, 8, 9]])"
      ]
     },
     "execution_count": 13,
     "metadata": {},
     "output_type": "execute_result"
    }
   ],
   "source": [
    "#多次元配列作り\n",
    "#中身をしっかりもう一回[]でくくるのが大事くさい\n",
    "import numpy as np\n",
    "warr = np.asarray([[1,2,3],[4,5,6],[7,8,9]])\n",
    "warr"
   ]
  },
  {
   "cell_type": "code",
   "execution_count": 16,
   "metadata": {},
   "outputs": [
    {
     "data": {
      "text/plain": [
       "(2, 3)"
      ]
     },
     "execution_count": 16,
     "metadata": {},
     "output_type": "execute_result"
    }
   ],
   "source": [
    "#m行n列だと　(m,n)って返してくれる\n",
    "# 〇〇.shape\n",
    "import numpy as np\n",
    "arr = np.asarray([[1,2,3],[4,5,6]])\n",
    "arr.shape"
   ]
  },
  {
   "cell_type": "code",
   "execution_count": 28,
   "metadata": {},
   "outputs": [
    {
     "name": "stdout",
     "output_type": "stream",
     "text": [
      "[[0. 0. 0.]\n",
      " [0. 0. 0.]]\n",
      "===============================================\n",
      "[[1. 1. 1.]\n",
      " [1. 1. 1.]\n",
      " [1. 1. 1.]\n",
      " [1. 1. 1.]]\n",
      "===============================================\n",
      "[[0.67217592 0.92070386]\n",
      " [0.45118109 0.46390246]\n",
      " [0.24140286 0.40732379]\n",
      " [0.01694784 0.29363906]]\n",
      "===============================================\n",
      "[[ 1.77159817 -1.5488798  -1.18552868]\n",
      " [ 0.4901876   0.99603734 -0.23629133]\n",
      " [-2.74040752  0.51017393 -0.15324452]\n",
      " [-0.41357137 -0.13559589 -1.22725366]\n",
      " [ 1.2818876   0.26328075 -0.86023951]]\n"
     ]
    }
   ],
   "source": [
    "#特別な配列の作り方\n",
    "\n",
    "#全部0\n",
    "zero = np.zeros((2,3))\n",
    "zero\n",
    "\n",
    "#全部1\n",
    "one = np.ones((4,3))\n",
    "one\n",
    "\n",
    "#全部0~1\n",
    "random = np.random.rand(4,2)\n",
    "random\n",
    "\n",
    "#正規分布\n",
    "e = np.random.randn(5,3)\n",
    "print(zero)\n",
    "print(\"===============================================\")\n",
    "print(one)\n",
    "print(\"===============================================\")\n",
    "print(random)\n",
    "print(\"===============================================\")\n",
    "print(e)\n",
    "\n"
   ]
  },
  {
   "cell_type": "code",
   "execution_count": 32,
   "metadata": {},
   "outputs": [
    {
     "name": "stdout",
     "output_type": "stream",
     "text": [
      "通常の和:  [1, 2, 3, 4, 5, 6]\n",
      "numpyの和:  [5 7 9]\n"
     ]
    }
   ],
   "source": [
    "#   とにかくnumpy の特徴は　配列の計算がしやすいこと！！！！\n",
    "\n",
    "#通常のリスト\n",
    "a = [1,2,3]\n",
    "b = [4,5,6]\n",
    "c = a + b\n",
    "print(\"通常の和:  \"+str(c))\n",
    "\n",
    "#numpyのリスト\n",
    "A = np.asarray([1,2,3])\n",
    "B = np.asarray([4,5,6])\n",
    "C =  A + B\n",
    "print(\"numpyの和:  \"+str(C))"
   ]
  },
  {
   "cell_type": "code",
   "execution_count": 39,
   "metadata": {},
   "outputs": [
    {
     "name": "stdout",
     "output_type": "stream",
     "text": [
      "通常の場合は　error だぁ\n",
      "===============================================\n",
      "numpyのスカラー倍:  [[ 2  4  6]\n",
      " [ 8 10 12]]\n",
      "numpyのスカラー和:  [[3 4 5]\n",
      " [6 7 8]]\n"
     ]
    }
   ],
   "source": [
    "# スカラー倍、　スカラー和もそう！！\n",
    "\n",
    "#通常のリスト\n",
    "try:\n",
    "    a = [[1,2,3], [4,5,6]]\n",
    "    b = a * 2\n",
    "    c = a + 2\n",
    "    print(\"通常のスカラー倍:  \"+ str(b))\n",
    "    print(\"通常のスカラー和:  \"+ str(c))\n",
    "except:\n",
    "    print(\"通常の場合は　error だぁ\")\n",
    "    \n",
    "print(\"===============================================\")\n",
    "    \n",
    "#numpyのリスト\n",
    "try:\n",
    "    a = np.asarray([[1,2,3], [4,5,6]])\n",
    "    b = a * 2\n",
    "    c = a + 2\n",
    "    print(\"numpyのスカラー倍:  \"+ str(b))\n",
    "    print(\"numpyのスカラー和:  \"+ str(c))\n",
    "except:\n",
    "    print(\"\")"
   ]
  },
  {
   "cell_type": "code",
   "execution_count": null,
   "metadata": {},
   "outputs": [],
   "source": [
    "#   numpy の配列同士は、、、？\n",
    "a = np.asarray(\n",
    "    \n",
    "    [[1,2,3],[4,5,6])"
   ]
  }
 ],
 "metadata": {
  "kernelspec": {
   "display_name": "Python 3",
   "language": "python",
   "name": "python3"
  },
  "language_info": {
   "codemirror_mode": {
    "name": "ipython",
    "version": 3
   },
   "file_extension": ".py",
   "mimetype": "text/x-python",
   "name": "python",
   "nbconvert_exporter": "python",
   "pygments_lexer": "ipython3",
   "version": "3.7.3"
  }
 },
 "nbformat": 4,
 "nbformat_minor": 2
}
